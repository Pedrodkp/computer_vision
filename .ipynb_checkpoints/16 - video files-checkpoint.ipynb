{
 "cells": [
  {
   "cell_type": "code",
   "execution_count": 5,
   "id": "05b917ef-d287-4854-b437-afa520a2c000",
   "metadata": {},
   "outputs": [],
   "source": [
    "import cv2\n",
    "import time\n",
    "\n",
    "cap = cv2.VideoCapture('course material/DATA/hand_move.mp4')\n",
    "\n",
    "if cap.isOpened() == False:\n",
    "    print('error! file not found or wrong codec used')\n",
    "\n",
    "#it is faster, because computers do not read the same time as humans to watch a movie and make something\n",
    "while cap.isOpened():\n",
    "    ret, frame = cap.read()\n",
    "\n",
    "    if ret == True:\n",
    "        ###if want take human time, adjuste one time from frames/sec, example film was recorded in 20frames/sec so time should be 1/20\n",
    "        time.sleep(1/20) #can be also used to acelerate or make the video play slow\n",
    "        cv2.imshow('frame', frame)\n",
    "\n",
    "        if cv2.waitKey(10) & 0xFF == ord('q'):\n",
    "            break\n",
    "    else:\n",
    "        break\n",
    "\n",
    "cap.release()\n",
    "cv2.destroyAllWindows()"
   ]
  },
  {
   "cell_type": "code",
   "execution_count": null,
   "id": "4243660d-03a9-4b3e-b4fb-3f8ad1d7693c",
   "metadata": {},
   "outputs": [],
   "source": []
  }
 ],
 "metadata": {
  "kernelspec": {
   "display_name": "Python 3 (ipykernel)",
   "language": "python",
   "name": "python3"
  },
  "language_info": {
   "codemirror_mode": {
    "name": "ipython",
    "version": 3
   },
   "file_extension": ".py",
   "mimetype": "text/x-python",
   "name": "python",
   "nbconvert_exporter": "python",
   "pygments_lexer": "ipython3",
   "version": "3.8.18"
  }
 },
 "nbformat": 4,
 "nbformat_minor": 5
}
