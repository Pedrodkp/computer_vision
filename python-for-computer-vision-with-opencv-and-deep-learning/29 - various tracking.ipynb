{
 "cells": [
  {
   "cell_type": "code",
   "execution_count": null,
   "id": "78f9a400-cc38-4ecc-9409-8dc3fe463438",
   "metadata": {},
   "outputs": [],
   "source": [
    "#https://ieeexplore.ieee.org/document/6104061\n",
    "#https://arxiv.org/abs/1404.7584\n",
    "#https://faculty.ucmerced.edu/mhyang/papers/cvpr09a.pdf"
   ]
  },
  {
   "cell_type": "code",
   "execution_count": null,
   "id": "ec8ef6d1-89f0-4a52-bf5a-102556f59475",
   "metadata": {},
   "outputs": [],
   "source": [
    "#BOOSTING TRACKER (good: very know | bad: doesn't know if track fails, and there are better ones)"
   ]
  },
  {
   "cell_type": "code",
   "execution_count": null,
   "id": "869147be-4d9a-4133-8c00-320fcd3e529b",
   "metadata": {},
   "outputs": [],
   "source": [
    "#MIL TRACKER (good: more performance then boosting | failure to track is no reported, can't revover from full error)"
   ]
  },
  {
   "cell_type": "code",
   "execution_count": null,
   "id": "1c20d552-a637-4cdf-b087-1f91419f9bed",
   "metadata": {},
   "outputs": [],
   "source": [
    "#KFC TRACKER (good: perform better than mil and boosting | bad: can not recover from full obstruction of object)"
   ]
  },
  {
   "cell_type": "code",
   "execution_count": null,
   "id": "0062a36a-91fe-4654-8ccd-f06147dca65a",
   "metadata": {},
   "outputs": [],
   "source": [
    "#TLD TRACKER (good: good with obstruction and fast objects | bad: can provide many false positives)"
   ]
  },
  {
   "cell_type": "code",
   "execution_count": 1,
   "id": "2043e26f-8789-49c4-8346-366ac0851cf5",
   "metadata": {},
   "outputs": [],
   "source": [
    "#MedianFlow TRACKER (good: very good reporting failed tracking, works well with predictable motion | bad: fails for objects moving fast)"
   ]
  },
  {
   "cell_type": "code",
   "execution_count": 1,
   "id": "f43b07e0-441a-4aeb-92f2-42888e4b77a5",
   "metadata": {},
   "outputs": [
    {
     "name": "stdout",
     "output_type": "stream",
     "text": [
      "Available tracker types:\n",
      "0: BOOSTING\n",
      "1: MIL\n",
      "2: KCF\n",
      "3: TLD\n",
      "4: MEDIANFLOW\n",
      "5: GOTURN\n",
      "6: MOSSE\n",
      "7: CSRT\n"
     ]
    },
    {
     "name": "stdin",
     "output_type": "stream",
     "text": [
      "Enter the tracker type ID:  4\n"
     ]
    },
    {
     "name": "stdout",
     "output_type": "stream",
     "text": [
      "Selected tracker type: MEDIANFLOW\n"
     ]
    }
   ],
   "source": [
    "import cv2\n",
    "\n",
    "tracker_types = ['BOOSTING', 'MIL', 'KCF', 'TLD', 'MEDIANFLOW', 'GOTURN', 'MOSSE', 'CSRT']\n",
    "\n",
    "print(\"Available tracker types:\")\n",
    "for i, tracker_type in enumerate(tracker_types):\n",
    "    print(f\"{i}: {tracker_type}\")\n",
    "\n",
    "tracker_type_id = int(input(\"Enter the tracker type ID: \"))\n",
    "\n",
    "if 0 <= tracker_type_id < len(tracker_types):\n",
    "    tracker_type = tracker_types[tracker_type_id]\n",
    "    tracker = None\n",
    "\n",
    "    if tracker_type == 'BOOSTING':\n",
    "        tracker = cv2.legacy.TrackerBoosting_create()\n",
    "    elif tracker_type == 'MIL':\n",
    "        tracker = cv2.TrackerMIL_create()\n",
    "    elif tracker_type == 'KCF':\n",
    "        tracker = cv2.TrackerKCF_create()\n",
    "    elif tracker_type == 'TLD':\n",
    "        tracker = cv2.legacy.TrackerTLD_create()\n",
    "    elif tracker_type == 'MEDIANFLOW':\n",
    "        tracker = cv2.legacy.TrackerMedianFlow_create()\n",
    "    elif tracker_type == 'GOTURN':\n",
    "        tracker = cv2.TrackerGOTURN_create()\n",
    "    elif tracker_type == 'MOSSE':\n",
    "        tracker = cv2.legacy.TrackerMOSSE_create()\n",
    "    elif tracker_type == \"CSRT\":\n",
    "        tracker = cv2.TrackerCSRT_create()\n",
    "\n",
    "    if tracker is not None:\n",
    "        print(f\"Selected tracker type: {tracker_type}\")\n",
    "    else:\n",
    "        print(f\"Failed to create tracker for type: {tracker_type}\")\n",
    "else:\n",
    "    print(\"Invalid tracker type ID.\")"
   ]
  },
  {
   "cell_type": "code",
   "execution_count": 2,
   "id": "49638b8b-106b-44cb-a222-8adcd4e5059b",
   "metadata": {},
   "outputs": [
    {
     "data": {
      "text/plain": [
       "'MEDIANFLOW'"
      ]
     },
     "execution_count": 2,
     "metadata": {},
     "output_type": "execute_result"
    }
   ],
   "source": [
    "tracker_type"
   ]
  },
  {
   "cell_type": "code",
   "execution_count": 3,
   "id": "ba6e5168-4618-4ef4-9847-2968671346be",
   "metadata": {},
   "outputs": [
    {
     "name": "stderr",
     "output_type": "stream",
     "text": [
      "[ WARN:0@6.824] global /croot/opencv-suite_1691620365762/work/modules/videoio/src/cap_gstreamer.cpp (862) isPipelinePlaying OpenCV | GStreamer warning: GStreamer: pipeline have not been created\n"
     ]
    }
   ],
   "source": [
    "#https://broutonlab.com/blog/opencv-object-tracking/\n",
    "\n",
    "#this will create a windows, then the user draw what he wants to track, and press enter\n",
    "\n",
    "# Read video\n",
    "video = cv2.VideoCapture(0)\n",
    "\n",
    "# Exit if video not opened.\n",
    "if not video.isOpened():\n",
    "    print(\"Could not open video\")\n",
    "    sys.exit()\n",
    "\n",
    "# Read first frame.\n",
    "ok, frame = video.read()\n",
    "if not ok:\n",
    "    print('Cannot read video file')\n",
    "    sys.exit()\n",
    "\n",
    "# Define an initial bounding box\n",
    "bbox = (287, 23, 86, 320)\n",
    "\n",
    "# Uncomment the line below to select a different bounding box\n",
    "bbox = cv2.selectROI(frame, False)\n",
    "\n",
    "# Initialize tracker with first frame and bounding box\n",
    "ok = tracker.init(frame, bbox)\n",
    "\n",
    "while True:\n",
    "    # Read a new frame\n",
    "    ok, frame = video.read()\n",
    "    if not ok:\n",
    "        break\n",
    "\n",
    "    # Start timer\n",
    "    timer = cv2.getTickCount()\n",
    "\n",
    "    # Update tracker\n",
    "    ok, bbox = tracker.update(frame)\n",
    "\n",
    "    # Calculate Frames per second (FPS)\n",
    "    fps = cv2.getTickFrequency() / (cv2.getTickCount() - timer);\n",
    "\n",
    "    # Draw bounding box\n",
    "    if ok:\n",
    "        # Tracking success\n",
    "        p1 = (int(bbox[0]), int(bbox[1]))\n",
    "        p2 = (int(bbox[0] + bbox[2]), int(bbox[1] + bbox[3]))\n",
    "        cv2.rectangle(frame, p1, p2, (255,0,0), 2, 1)\n",
    "    else :\n",
    "        # Tracking failure\n",
    "        cv2.putText(frame, \"Tracking failure detected\", (100,80), cv2.FONT_HERSHEY_SIMPLEX, 0.75,(0,0,255),2)\n",
    "\n",
    "    # Display tracker type on frame\n",
    "    cv2.putText(frame, tracker_type + \" Tracker\", (100,20), cv2.FONT_HERSHEY_SIMPLEX, 0.75, (50,170,50),2);\n",
    "\n",
    "    # Display FPS on frame\n",
    "    cv2.putText(frame, \"FPS : \" + str(int(fps)), (100,50), cv2.FONT_HERSHEY_SIMPLEX, 0.75, (50,170,50), 2);\n",
    "\n",
    "    # Display result\n",
    "    cv2.imshow(\"Tracking\", frame)\n",
    "\n",
    "    # Exit if ESC pressed\n",
    "    k = cv2.waitKey(1) & 0xff\n",
    "    if k == 27 : \n",
    "        break\n",
    "\n",
    "video.release()\n",
    "cv2.destroyAllWindows()"
   ]
  },
  {
   "cell_type": "code",
   "execution_count": null,
   "id": "4666d83c-89ea-4b8c-9811-e3bafb6a6f76",
   "metadata": {},
   "outputs": [],
   "source": []
  }
 ],
 "metadata": {
  "kernelspec": {
   "display_name": "Python 3 (ipykernel)",
   "language": "python",
   "name": "python3"
  },
  "language_info": {
   "codemirror_mode": {
    "name": "ipython",
    "version": 3
   },
   "file_extension": ".py",
   "mimetype": "text/x-python",
   "name": "python",
   "nbconvert_exporter": "python",
   "pygments_lexer": "ipython3",
   "version": "3.8.18"
  }
 },
 "nbformat": 4,
 "nbformat_minor": 5
}
