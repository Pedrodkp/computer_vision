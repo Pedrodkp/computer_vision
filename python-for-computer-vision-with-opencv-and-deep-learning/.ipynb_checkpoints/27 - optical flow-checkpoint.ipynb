{
 "cells": [
  {
   "cell_type": "code",
   "execution_count": 2,
   "id": "1d3565bf-a8a5-4426-bb67-b5d4cb638460",
   "metadata": {},
   "outputs": [],
   "source": [
    "import numpy as np\n",
    "import cv2"
   ]
  },
  {
   "cell_type": "code",
   "execution_count": 3,
   "id": "bdf14eff-5383-4e33-b729-d61663437e11",
   "metadata": {},
   "outputs": [],
   "source": [
    "#corner_track_params = dict(maxCorners=10, qualityLevel=0.3, minDistance=7, blockSize=7) #start with that and adjuste for better use\n",
    "corner_track_params = dict(maxCorners=100, qualityLevel=0.01, minDistance=10, blockSize=7)"
   ]
  },
  {
   "cell_type": "code",
   "execution_count": 4,
   "id": "268f13d6-55e4-4f52-9f8a-013766ab31f3",
   "metadata": {},
   "outputs": [],
   "source": [
    "#small windows loss big movements, big windows loss smal movements, so adjuste for better use\n",
    "#maxLevel, https://en.wikipedia.org/wiki/Pyramid_(image_processing)\n",
    "#the values bellow can exchange speed X accuracy\n",
    "#two criterias to perform\n",
    "#10 is max number of interactions\n",
    "#0.03 small epsolon?\n",
    "#lk_params = dict(winSize=(1000,1000), maxLevel=1, criteria=(cv2.TERM_CRITERIA_EPS | cv2.TERM_CRITERIA_COUNT, 10, 0.03))\n",
    "lk_params = dict(winSize=(400,400), maxLevel=2, criteria=(cv2.TERM_CRITERIA_EPS | cv2.TERM_CRITERIA_COUNT, 10, 0.03))"
   ]
  },
  {
   "cell_type": "code",
   "execution_count": null,
   "id": "b8941427-de28-4832-92d3-0fc28d0c74c4",
   "metadata": {},
   "outputs": [
    {
     "name": "stderr",
     "output_type": "stream",
     "text": [
      "[ WARN:0@0.444] global /croot/opencv-suite_1691620365762/work/modules/videoio/src/cap_gstreamer.cpp (862) isPipelinePlaying OpenCV | GStreamer warning: GStreamer: pipeline have not been created\n"
     ]
    }
   ],
   "source": [
    "#goal: track 10 points, flattening, and draw one line from prev to next points\n",
    "cap = cv2.VideoCapture(0)\n",
    "ret, prev_frame = cap.read()\n",
    "prev_gray = cv2.cvtColor(prev_frame, cv2.COLOR_BGR2GRAY)\n",
    "# points to track\n",
    "prevPts = cv2.goodFeaturesToTrack(prev_gray, mask=None, **corner_track_params)\n",
    "mask = np.zeros_like(prev_frame)\n",
    "while True:\n",
    "    ret, frame = cap.read()\n",
    "    frame_gray = cv2.cvtColor(frame, cv2.COLOR_BGR2GRAY)\n",
    "    nextPts, status, err = cv2.calcOpticalFlowPyrLK(prev_gray, frame_gray, prevPts, None, **lk_params)\n",
    "    if nextPts is not None and len(nextPts) > 0:\n",
    "        good_new = nextPts[status==1]\n",
    "        good_prev = prevPts[status==1]\n",
    "    \n",
    "        #zip() combines two arrays into tuple paring   \n",
    "        for i, (new, prev) in enumerate(zip(good_new, good_prev)):\n",
    "            x_new, y_new = new.ravel()\n",
    "            x_prev, y_prev = prev.ravel()\n",
    "        \n",
    "            # Check if points are within image boundaries\n",
    "            if 0 <= x_new < frame.shape[1] and 0 <= y_new < frame.shape[0] and 0 <= x_prev < frame.shape[1] and 0 <= y_prev < frame.shape[0]:\n",
    "                mask = cv2.line(mask, (int(x_new), int(y_new)), (int(x_prev), int(y_prev)), (0,255,0), 3)\n",
    "                frame = cv2.circle(frame, (int(x_new), int(y_new)), 8, (0,0,255), -1)\n",
    "\n",
    "    \n",
    "        img = cv2.add(frame, mask)\n",
    "        cv2.imshow('tracking',img)\n",
    "    \n",
    "        k = cv2.waitKey(30) & 0xFF\n",
    "        if k == 27:\n",
    "            break\n",
    "    \n",
    "        prev_gray, frame_gray.copy()\n",
    "        prevPts = good_new.reshape(-1, 1, 2)\n",
    "\n",
    "cv2.destroyAllWindows()\n",
    "cap.release()"
   ]
  },
  {
   "cell_type": "code",
   "execution_count": null,
   "id": "a525e89a-ca87-4160-8ff4-135d7cb825b9",
   "metadata": {},
   "outputs": [],
   "source": []
  },
  {
   "cell_type": "code",
   "execution_count": null,
   "id": "ef8a0fea-ddef-4f16-8411-4dba9f354dd2",
   "metadata": {},
   "outputs": [],
   "source": []
  }
 ],
 "metadata": {
  "kernelspec": {
   "display_name": "Python 3 (ipykernel)",
   "language": "python",
   "name": "python3"
  },
  "language_info": {
   "codemirror_mode": {
    "name": "ipython",
    "version": 3
   },
   "file_extension": ".py",
   "mimetype": "text/x-python",
   "name": "python",
   "nbconvert_exporter": "python",
   "pygments_lexer": "ipython3",
   "version": "3.8.18"
  }
 },
 "nbformat": 4,
 "nbformat_minor": 5
}
